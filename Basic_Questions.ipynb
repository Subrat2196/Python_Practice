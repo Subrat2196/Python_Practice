{
 "cells": [
  {
   "cell_type": "markdown",
   "id": "55f3cf09-ce14-4094-b50b-3bb0ca82c2ef",
   "metadata": {},
   "source": [
    "### Question 1 -> population at 10th year is 10000 , what was the population at each year till the 10th year if population increased by 10% each year"
   ]
  },
  {
   "cell_type": "code",
   "execution_count": 2,
   "id": "f39ec662-9aee-4ca6-ad80-3cda6378a3cb",
   "metadata": {},
   "outputs": [
    {
     "name": "stdout",
     "output_type": "stream",
     "text": [
      "population at 10th year is 10000\n",
      "population at 9th year is 9090.90909090909\n",
      "population at 8th year is 8264.462809917355\n",
      "population at 7th year is 7513.1480090157775\n",
      "population at 6th year is 6830.134553650707\n",
      "population at 5th year is 6209.213230591551\n",
      "population at 4th year is 5644.7393005377735\n",
      "population at 3th year is 5131.581182307066\n",
      "population at 2th year is 4665.073802097333\n",
      "population at 1th year is 4240.976183724848\n"
     ]
    }
   ],
   "source": [
    "curr_pop=10000\n",
    "for i in range(10,0,-1):\n",
    "    print(f'population at {i}th year is {curr_pop}')\n",
    "    curr_pop = (10/11)*curr_pop    "
   ]
  },
  {
   "cell_type": "markdown",
   "id": "31139dee-28cb-43de-919c-7c79266d4435",
   "metadata": {},
   "source": [
    "### Question 2 -> Find the value of Sequence Sum -> 1/1! + 2/2! + 3/3! + ......."
   ]
  },
  {
   "cell_type": "code",
   "execution_count": 3,
   "id": "21258fbf-b774-41b5-a26c-fa9a518ecb82",
   "metadata": {},
   "outputs": [],
   "source": [
    "import math"
   ]
  },
  {
   "cell_type": "code",
   "execution_count": 4,
   "id": "fb95d1fa-c70e-4004-83cc-e7db49a42b4e",
   "metadata": {},
   "outputs": [],
   "source": [
    "import numpy as np"
   ]
  },
  {
   "cell_type": "code",
   "execution_count": 8,
   "id": "b97ffa4d-b75e-497c-8a06-735aa59bc90a",
   "metadata": {},
   "outputs": [
    {
     "name": "stdin",
     "output_type": "stream",
     "text": [
      "Enter the value of the number till we want the sequence sum 3\n"
     ]
    },
    {
     "name": "stdout",
     "output_type": "stream",
     "text": [
      "2.5\n"
     ]
    }
   ],
   "source": [
    "n = int(input('Enter the value of the number till we want the sequence sum'))\n",
    "sum=0\n",
    "for i in range(1,n+1,1):\n",
    "    sum = sum+i/math.factorial(i)\n",
    "print(sum)"
   ]
  },
  {
   "cell_type": "markdown",
   "id": "71c6a029-12ae-4c32-a7c4-065c51155276",
   "metadata": {},
   "source": [
    "### Question 3 -> print pattern ->   *\n",
    "### *\n",
    "### **\n",
    "### ***"
   ]
  },
  {
   "cell_type": "code",
   "execution_count": 20,
   "id": "20f7bbfa-49b5-4280-905c-3bd7cd48a928",
   "metadata": {},
   "outputs": [
    {
     "name": "stdin",
     "output_type": "stream",
     "text": [
      "enter the number of rows =  5\n"
     ]
    },
    {
     "name": "stdout",
     "output_type": "stream",
     "text": [
      "*\n",
      "**\n",
      "***\n",
      "****\n",
      "*****\n"
     ]
    }
   ],
   "source": [
    "n = int(input('enter the number of rows = '))\n",
    "for row in range(1,n+1):\n",
    "    for j in range(row):\n",
    "        print('*',end='') # we need to put end \n",
    "    print()"
   ]
  },
  {
   "cell_type": "markdown",
   "id": "36702085-08a7-433d-8636-a7b995828ca6",
   "metadata": {},
   "source": [
    "### Question 4 -> Print Pattern"
   ]
  },
  {
   "cell_type": "markdown",
   "id": "9d1705e9-c214-4001-bc09-20d17644c613",
   "metadata": {},
   "source": [
    "### 1\n",
    "### 121\n",
    "### 12321\n",
    "### 1234321"
   ]
  },
  {
   "cell_type": "code",
   "execution_count": 30,
   "id": "bfe90cbe-e2b8-4902-b124-39c3901ae2b9",
   "metadata": {},
   "outputs": [
    {
     "name": "stdin",
     "output_type": "stream",
     "text": [
      "Enter the value of rows  5\n"
     ]
    },
    {
     "name": "stdout",
     "output_type": "stream",
     "text": [
      "1\n",
      "121\n",
      "12321\n",
      "1234321\n",
      "123454321\n"
     ]
    }
   ],
   "source": [
    "n=int(input('Enter the value of rows '))\n",
    "for i in range(1,n+1):\n",
    "    for j in range(1,i+1):\n",
    "        print(j,end='')\n",
    "    for k in range(j-1,0,-1):\n",
    "        print(k,end='')\n",
    "    print()"
   ]
  },
  {
   "cell_type": "code",
   "execution_count": null,
   "id": "4c3a4370-362e-4770-bf16-422d8691d95d",
   "metadata": {},
   "outputs": [],
   "source": []
  }
 ],
 "metadata": {
  "kernelspec": {
   "display_name": "Python 3 (ipykernel)",
   "language": "python",
   "name": "python3"
  },
  "language_info": {
   "codemirror_mode": {
    "name": "ipython",
    "version": 3
   },
   "file_extension": ".py",
   "mimetype": "text/x-python",
   "name": "python",
   "nbconvert_exporter": "python",
   "pygments_lexer": "ipython3",
   "version": "3.11.7"
  }
 },
 "nbformat": 4,
 "nbformat_minor": 5
}
