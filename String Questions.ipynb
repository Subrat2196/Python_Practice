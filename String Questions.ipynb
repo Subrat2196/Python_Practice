{
 "cells": [
  {
   "cell_type": "markdown",
   "id": "1de13117-b79a-4d45-b10d-b60f7732d169",
   "metadata": {},
   "source": [
    "### Find the length of the given string without using the len() function"
   ]
  },
  {
   "cell_type": "code",
   "execution_count": 2,
   "id": "a449ca8d-e70a-49a6-8593-9776492fe839",
   "metadata": {},
   "outputs": [
    {
     "name": "stdin",
     "output_type": "stream",
     "text": [
      "Enter the input Hey there you have to do this one this is important\n"
     ]
    }
   ],
   "source": [
    "s = str(input('Enter the input'))"
   ]
  },
  {
   "cell_type": "code",
   "execution_count": 3,
   "id": "fa51dcb1-d1a6-4af1-8fe2-3e514a772039",
   "metadata": {},
   "outputs": [
    {
     "data": {
      "text/plain": [
       "'Hey there you have to do this one this is important'"
      ]
     },
     "execution_count": 3,
     "metadata": {},
     "output_type": "execute_result"
    }
   ],
   "source": [
    "s"
   ]
  },
  {
   "cell_type": "code",
   "execution_count": 4,
   "id": "e877ff2f-eb0c-4261-9baa-feb67bc35975",
   "metadata": {},
   "outputs": [],
   "source": [
    "cnt=0\n",
    "for i in s:\n",
    "    cnt=cnt+1"
   ]
  },
  {
   "cell_type": "code",
   "execution_count": 5,
   "id": "b3e3ba69-ca68-4c2b-b8fe-af9e720e4e88",
   "metadata": {},
   "outputs": [
    {
     "data": {
      "text/plain": [
       "51"
      ]
     },
     "execution_count": 5,
     "metadata": {},
     "output_type": "execute_result"
    }
   ],
   "source": [
    "cnt"
   ]
  },
  {
   "cell_type": "code",
   "execution_count": 6,
   "id": "057049c7-dd44-4f6f-934a-47d11f2d9f18",
   "metadata": {},
   "outputs": [
    {
     "data": {
      "text/plain": [
       "51"
      ]
     },
     "execution_count": 6,
     "metadata": {},
     "output_type": "execute_result"
    }
   ],
   "source": [
    "len(s)"
   ]
  },
  {
   "cell_type": "markdown",
   "id": "153198aa-1528-450c-a6c1-d7b0b5c36575",
   "metadata": {},
   "source": [
    "### Extract username from email"
   ]
  },
  {
   "cell_type": "markdown",
   "id": "729fb7cf-7fb7-493d-b41a-40f637dc28c1",
   "metadata": {},
   "source": [
    "### using split"
   ]
  },
  {
   "cell_type": "code",
   "execution_count": 7,
   "id": "7c859347-4a26-4f91-bd56-7b9c449f8843",
   "metadata": {},
   "outputs": [],
   "source": [
    "s = 'subrat2196@gmail.com'"
   ]
  },
  {
   "cell_type": "code",
   "execution_count": 8,
   "id": "2ccbd5cb-b837-4160-ba51-b5a02b171754",
   "metadata": {},
   "outputs": [
    {
     "name": "stdout",
     "output_type": "stream",
     "text": [
      "subrat2196\n"
     ]
    }
   ],
   "source": [
    "print(s.split('@')[0])"
   ]
  },
  {
   "cell_type": "markdown",
   "id": "dafaf1cf-c8c5-47c1-8b07-f69b02c66858",
   "metadata": {},
   "source": [
    "### using pos"
   ]
  },
  {
   "cell_type": "code",
   "execution_count": 9,
   "id": "967a53c6-f485-4dab-9552-5d2e00744bdb",
   "metadata": {},
   "outputs": [],
   "source": [
    "pos = s.find('@')"
   ]
  },
  {
   "cell_type": "code",
   "execution_count": 10,
   "id": "8bb8c5d3-ab46-4f19-9d0b-e5b5343d2162",
   "metadata": {},
   "outputs": [
    {
     "data": {
      "text/plain": [
       "'subrat2196'"
      ]
     },
     "execution_count": 10,
     "metadata": {},
     "output_type": "execute_result"
    }
   ],
   "source": [
    "s[:pos]"
   ]
  },
  {
   "cell_type": "code",
   "execution_count": null,
   "id": "997cd924-a96d-49a9-9663-821663ab2c12",
   "metadata": {},
   "outputs": [],
   "source": []
  },
  {
   "cell_type": "markdown",
   "id": "e89fb152-8046-4f07-b784-9f09db452251",
   "metadata": {},
   "source": [
    "### Count Frequency"
   ]
  },
  {
   "cell_type": "code",
   "execution_count": 11,
   "id": "945ade61-9222-4405-ae12-daa56dabe90e",
   "metadata": {},
   "outputs": [],
   "source": [
    "s = 'Hello there what is the length of me without using length function'"
   ]
  },
  {
   "cell_type": "code",
   "execution_count": 12,
   "id": "b95d391a-819c-426b-89de-e8559a3210bb",
   "metadata": {},
   "outputs": [
    {
     "data": {
      "text/plain": [
       "4"
      ]
     },
     "execution_count": 12,
     "metadata": {},
     "output_type": "execute_result"
    }
   ],
   "source": [
    "s.count('o')"
   ]
  },
  {
   "cell_type": "code",
   "execution_count": 13,
   "id": "274a49a0-97de-4026-82eb-6050ae72a89e",
   "metadata": {},
   "outputs": [
    {
     "name": "stdin",
     "output_type": "stream",
     "text": [
      "Enter the character o\n"
     ]
    },
    {
     "name": "stdout",
     "output_type": "stream",
     "text": [
      "4\n"
     ]
    }
   ],
   "source": [
    "cnt=0\n",
    "char = str(input('Enter the character'))\n",
    "for i in s:\n",
    "    if i == char :\n",
    "        cnt=cnt+1\n",
    "print(cnt)"
   ]
  },
  {
   "cell_type": "markdown",
   "id": "17c3b553-7b8c-4dfd-a460-8ddf5f7faf01",
   "metadata": {},
   "source": [
    "### Removing a character"
   ]
  },
  {
   "cell_type": "markdown",
   "id": "c3408326-fe3c-4182-8ce1-326ce9068a45",
   "metadata": {},
   "source": [
    "#### trial"
   ]
  },
  {
   "cell_type": "code",
   "execution_count": 14,
   "id": "341deae7-b234-4653-8ef2-b2e82679a6e4",
   "metadata": {},
   "outputs": [
    {
     "data": {
      "text/plain": [
       "'Hello there what is the length of me without using length function'"
      ]
     },
     "execution_count": 14,
     "metadata": {},
     "output_type": "execute_result"
    }
   ],
   "source": [
    "s"
   ]
  },
  {
   "cell_type": "code",
   "execution_count": 23,
   "id": "c047e689-5162-4ce4-a3ba-cf4ff2e6f70f",
   "metadata": {},
   "outputs": [
    {
     "name": "stdin",
     "output_type": "stream",
     "text": [
      " o\n"
     ]
    }
   ],
   "source": [
    "ch = input()\n",
    "for i in range(len(s)):\n",
    "    if s[i]==ch:\n",
    "        break\n"
   ]
  },
  {
   "cell_type": "code",
   "execution_count": 24,
   "id": "3818d8df-e8ea-4495-99cc-ece72f6518e4",
   "metadata": {},
   "outputs": [
    {
     "data": {
      "text/plain": [
       "4"
      ]
     },
     "execution_count": 24,
     "metadata": {},
     "output_type": "execute_result"
    }
   ],
   "source": [
    "i"
   ]
  },
  {
   "cell_type": "code",
   "execution_count": 25,
   "id": "59947ad5-c97c-493e-91ce-1e664a41997e",
   "metadata": {},
   "outputs": [],
   "source": [
    "s = s[:i]+s[i+1:]"
   ]
  },
  {
   "cell_type": "code",
   "execution_count": 26,
   "id": "8d36cf82-0762-4bd3-8e0d-bd08e3e7ea20",
   "metadata": {},
   "outputs": [
    {
     "data": {
      "text/plain": [
       "'Hell there what is the length of me without using length function'"
      ]
     },
     "execution_count": 26,
     "metadata": {},
     "output_type": "execute_result"
    }
   ],
   "source": [
    "s"
   ]
  },
  {
   "cell_type": "markdown",
   "id": "d75e5994-d6bd-4c88-8351-cacdbd48007a",
   "metadata": {},
   "source": [
    "#### concept -> take an empty string whenever you get a character not matching the character to be remove , add it to the empty list"
   ]
  },
  {
   "cell_type": "code",
   "execution_count": 27,
   "id": "59399e6b-21d0-45d3-bbd5-1f384e08fcc0",
   "metadata": {},
   "outputs": [
    {
     "name": "stdin",
     "output_type": "stream",
     "text": [
      " o\n"
     ]
    }
   ],
   "source": [
    "s_new = ''\n",
    "ch = input()\n",
    "for i in s:\n",
    "    if i!=ch:\n",
    "        s_new=s_new+i"
   ]
  },
  {
   "cell_type": "code",
   "execution_count": 28,
   "id": "2a688b20-aef4-4736-9373-af00795cf237",
   "metadata": {},
   "outputs": [
    {
     "data": {
      "text/plain": [
       "'Hell there what is the length f me withut using length functin'"
      ]
     },
     "execution_count": 28,
     "metadata": {},
     "output_type": "execute_result"
    }
   ],
   "source": [
    "s_new"
   ]
  },
  {
   "cell_type": "markdown",
   "id": "22fea00f-340e-4475-8f57-a30cfbc36157",
   "metadata": {},
   "source": [
    "### Check whether a given string is palindrome or not"
   ]
  },
  {
   "cell_type": "code",
   "execution_count": 36,
   "id": "5b491f44-8f11-48c1-ac3d-23e5897f5bcb",
   "metadata": {},
   "outputs": [
    {
     "name": "stdin",
     "output_type": "stream",
     "text": [
      "Enter the string to be taken as input sdksldkssld;sl=\n"
     ]
    },
    {
     "name": "stdout",
     "output_type": "stream",
     "text": [
      "Not a Palindrome\n"
     ]
    }
   ],
   "source": [
    "s = input('Enter the string to be taken as input')\n",
    "# 2 pointer approach\n",
    "\n",
    "flag=1\n",
    "start_idx = 0\n",
    "end_idx = len(s)-1\n",
    "\n",
    "while(start_idx<=end_idx):\n",
    "    if(s[start_idx]!=s[end_idx]):\n",
    "        flag=0\n",
    "        break\n",
    "    start_idx = start_idx+1\n",
    "    end_idx=end_idx-1\n",
    "\n",
    "if(flag==0):\n",
    "    print('Not a Palindrome')\n",
    "else:\n",
    "    print('Palindrome')\n"
   ]
  },
  {
   "cell_type": "markdown",
   "id": "6a4a051b-0945-489c-a36f-32ef0cd63fab",
   "metadata": {},
   "source": [
    "### count number of words in a string without split"
   ]
  },
  {
   "cell_type": "code",
   "execution_count": 47,
   "id": "7d376e50-f775-4436-ab22-755812ea7edb",
   "metadata": {},
   "outputs": [],
   "source": [
    "s = 'Hey there what is the best things you can do to find the number of words'"
   ]
  },
  {
   "cell_type": "code",
   "execution_count": 48,
   "id": "aab1eca4-e080-4ade-9447-1932d041fde5",
   "metadata": {},
   "outputs": [
    {
     "name": "stdout",
     "output_type": "stream",
     "text": [
      "16\n"
     ]
    }
   ],
   "source": [
    "count=0\n",
    "for i in s:\n",
    "    if(i==' '):\n",
    "       count=count+1\n",
    "count = count+1\n",
    "print(count)"
   ]
  },
  {
   "cell_type": "markdown",
   "id": "2851b847-b5c0-4a32-b7a7-09e2448df0fe",
   "metadata": {},
   "source": [
    "### one better approach can be using empty string and list "
   ]
  },
  {
   "cell_type": "code",
   "execution_count": 51,
   "id": "87461a00-a42d-42ba-87d7-8ef40836cefe",
   "metadata": {},
   "outputs": [],
   "source": [
    "l = []\n",
    "temp_str = ''\n",
    "\n",
    "for i in s:\n",
    "    if(i!=' '):\n",
    "        temp_str=temp_str+i\n",
    "    else:\n",
    "        l.append(temp_str)\n",
    "        temp_str=''\n",
    "\n",
    "l.append(temp_str)"
   ]
  },
  {
   "cell_type": "code",
   "execution_count": 52,
   "id": "30c3f8c0-f649-45ac-b7b6-71fe8483c813",
   "metadata": {},
   "outputs": [
    {
     "data": {
      "text/plain": [
       "['Hey',\n",
       " 'there',\n",
       " 'what',\n",
       " 'is',\n",
       " 'the',\n",
       " 'best',\n",
       " 'things',\n",
       " 'you',\n",
       " 'can',\n",
       " 'do',\n",
       " 'to',\n",
       " 'find',\n",
       " 'the',\n",
       " 'number',\n",
       " 'of',\n",
       " 'words']"
      ]
     },
     "execution_count": 52,
     "metadata": {},
     "output_type": "execute_result"
    }
   ],
   "source": [
    "l"
   ]
  },
  {
   "cell_type": "code",
   "execution_count": 53,
   "id": "920e24f8-e2da-4c5d-82e0-89aa9ad9c5ce",
   "metadata": {},
   "outputs": [
    {
     "data": {
      "text/plain": [
       "16"
      ]
     },
     "execution_count": 53,
     "metadata": {},
     "output_type": "execute_result"
    }
   ],
   "source": [
    "len(l)"
   ]
  },
  {
   "cell_type": "markdown",
   "id": "c4987a48-c041-4536-af29-710fb4dcf3f5",
   "metadata": {},
   "source": [
    "### convert a string to title case without using the title()"
   ]
  },
  {
   "cell_type": "code",
   "execution_count": 60,
   "id": "f4749759-d6f3-473f-8397-e52962344f61",
   "metadata": {},
   "outputs": [],
   "source": [
    "s = 'Hey there how are you doing in converting a string to title string'\n",
    "lst = s.split()"
   ]
  },
  {
   "cell_type": "code",
   "execution_count": 61,
   "id": "5e2da511-e2df-4e32-b367-ce29ff0ea5e9",
   "metadata": {},
   "outputs": [
    {
     "data": {
      "text/plain": [
       "['Hey',\n",
       " 'there',\n",
       " 'how',\n",
       " 'are',\n",
       " 'you',\n",
       " 'doing',\n",
       " 'in',\n",
       " 'converting',\n",
       " 'a',\n",
       " 'string',\n",
       " 'to',\n",
       " 'title',\n",
       " 'string']"
      ]
     },
     "execution_count": 61,
     "metadata": {},
     "output_type": "execute_result"
    }
   ],
   "source": [
    "lst"
   ]
  },
  {
   "cell_type": "code",
   "execution_count": 67,
   "id": "594e91df-d21b-4234-90a8-5629d363714f",
   "metadata": {},
   "outputs": [],
   "source": [
    "l = []\n",
    "for i in lst:\n",
    "    l.append(i[0].upper()+i[1:].lower())\n",
    "    "
   ]
  },
  {
   "cell_type": "code",
   "execution_count": 68,
   "id": "9c69d0d9-e64c-416c-841b-e535fe21f016",
   "metadata": {},
   "outputs": [
    {
     "data": {
      "text/plain": [
       "['Hey',\n",
       " 'There',\n",
       " 'How',\n",
       " 'Are',\n",
       " 'You',\n",
       " 'Doing',\n",
       " 'In',\n",
       " 'Converting',\n",
       " 'A',\n",
       " 'String',\n",
       " 'To',\n",
       " 'Title',\n",
       " 'String']"
      ]
     },
     "execution_count": 68,
     "metadata": {},
     "output_type": "execute_result"
    }
   ],
   "source": [
    "l"
   ]
  },
  {
   "cell_type": "code",
   "execution_count": 69,
   "id": "133ac09f-a786-4f88-bf03-c684fb74655a",
   "metadata": {},
   "outputs": [
    {
     "data": {
      "text/plain": [
       "'Hey There How Are You Doing In Converting A String To Title String'"
      ]
     },
     "execution_count": 69,
     "metadata": {},
     "output_type": "execute_result"
    }
   ],
   "source": [
    "' '.join(l)"
   ]
  },
  {
   "cell_type": "markdown",
   "id": "9a8add26-2392-4306-ae67-e9c6c7836e13",
   "metadata": {},
   "source": [
    "### integer to string without type conversion"
   ]
  },
  {
   "cell_type": "code",
   "execution_count": 100,
   "id": "41338f7a-b633-421a-8eb9-4dc1dce53c36",
   "metadata": {},
   "outputs": [
    {
     "name": "stdin",
     "output_type": "stream",
     "text": [
      "Enter the number 456788\n"
     ]
    }
   ],
   "source": [
    "number = int(input('Enter the number'))\n",
    "digits = '0123456789'\n",
    "result = ''\n",
    "while(number!=0):\n",
    "    result = digits[number%10] + result\n",
    "    number = number//10"
   ]
  },
  {
   "cell_type": "code",
   "execution_count": 101,
   "id": "50b16a16-ee13-42d1-85e9-79d95ffeb325",
   "metadata": {},
   "outputs": [
    {
     "data": {
      "text/plain": [
       "'456788'"
      ]
     },
     "execution_count": 101,
     "metadata": {},
     "output_type": "execute_result"
    }
   ],
   "source": [
    "result"
   ]
  },
  {
   "cell_type": "markdown",
   "id": "99f67438-4c1a-4032-a328-f09ec614c182",
   "metadata": {},
   "source": [
    "### Question -> Print String according to given format"
   ]
  },
  {
   "cell_type": "markdown",
   "id": "b8d3b290-1f22-451f-972b-1888ea5bab09",
   "metadata": {},
   "source": [
    "#####  \"Data\" \"Science\" \"Mentorship\" \"Program\"\n",
    "##### \"By\" \"CampusX\""
   ]
  },
  {
   "cell_type": "code",
   "execution_count": 111,
   "id": "1e6d4647-9863-49cd-b3f2-1138665003f4",
   "metadata": {},
   "outputs": [
    {
     "name": "stdout",
     "output_type": "stream",
     "text": [
      "Data-Science-mentorship-Program-started-By-CampusX\n"
     ]
    }
   ],
   "source": [
    "print(\"Data\",\"Science\",\"mentorship\",\"Program\",sep='-',end='-started-')\n",
    "print(\"By\",\"CampusX\",sep='-')"
   ]
  },
  {
   "cell_type": "markdown",
   "id": "21cbce96-5e76-4f5a-8313-f65ad241980b",
   "metadata": {},
   "source": [
    "### Question -> Celsius to Farhenheit"
   ]
  },
  {
   "cell_type": "code",
   "execution_count": 113,
   "id": "0c96670f-50d0-4b13-aed4-95d97fc621bb",
   "metadata": {},
   "outputs": [
    {
     "name": "stdin",
     "output_type": "stream",
     "text": [
      "Enter the celsius value 34\n"
     ]
    },
    {
     "name": "stdout",
     "output_type": "stream",
     "text": [
      "the farhenheit value is 93.2\n"
     ]
    }
   ],
   "source": [
    "c = eval(input('Enter the celsius value'))\n",
    "f = (9/5)*c + 32\n",
    "print(f'the farhenheit value is {f}')"
   ]
  },
  {
   "cell_type": "markdown",
   "id": "71ecad36-5590-4774-b7d8-e1645ec68371",
   "metadata": {},
   "source": [
    "### Question -> Swap 2 numbers"
   ]
  },
  {
   "cell_type": "code",
   "execution_count": 114,
   "id": "bcfaa5bf-8ef9-4622-9515-6d8f705010aa",
   "metadata": {},
   "outputs": [
    {
     "name": "stdin",
     "output_type": "stream",
     "text": [
      "Enter the number 1 5\n",
      "Enter the number 2 7\n"
     ]
    },
    {
     "name": "stdout",
     "output_type": "stream",
     "text": [
      "7 5\n"
     ]
    }
   ],
   "source": [
    "a = eval(input('Enter the number 1'))\n",
    "b = eval(input('Enter the number 2'))\n",
    "\n",
    "a = a-b\n",
    "b = a+b\n",
    "a = b-a\n",
    "\n",
    "print(a,b)"
   ]
  },
  {
   "cell_type": "code",
   "execution_count": null,
   "id": "e23bd93f-e924-4db7-8e3d-4ebf7f0f362f",
   "metadata": {},
   "outputs": [],
   "source": []
  }
 ],
 "metadata": {
  "kernelspec": {
   "display_name": "Python 3 (ipykernel)",
   "language": "python",
   "name": "python3"
  },
  "language_info": {
   "codemirror_mode": {
    "name": "ipython",
    "version": 3
   },
   "file_extension": ".py",
   "mimetype": "text/x-python",
   "name": "python",
   "nbconvert_exporter": "python",
   "pygments_lexer": "ipython3",
   "version": "3.11.7"
  }
 },
 "nbformat": 4,
 "nbformat_minor": 5
}
