{
 "cells": [
  {
   "cell_type": "markdown",
   "id": "8648d802-3d65-4d34-9334-577684792c15",
   "metadata": {},
   "source": [
    "# String"
   ]
  },
  {
   "cell_type": "markdown",
   "id": "f5920d9b-e014-4539-ad5e-9fec2ee86024",
   "metadata": {},
   "source": [
    "## String is an immutable data type"
   ]
  },
  {
   "cell_type": "code",
   "execution_count": null,
   "id": "bf030e26-c225-4563-9083-a6ffbd432460",
   "metadata": {},
   "outputs": [],
   "source": []
  },
  {
   "cell_type": "markdown",
   "id": "3c0a4add-7daf-4ed2-b958-291552547cd6",
   "metadata": {},
   "source": [
    "#### Python character are not ASCII characters but rather they are unicode characters , as unicode characters covers multiple languages and support 16-bit as compared to ASCII that supports only 8-bits"
   ]
  },
  {
   "cell_type": "code",
   "execution_count": 2,
   "id": "365dd05d-0361-499c-9c59-2a6ff2950504",
   "metadata": {},
   "outputs": [
    {
     "data": {
      "text/plain": [
       "'Hello there'"
      ]
     },
     "execution_count": 2,
     "metadata": {},
     "output_type": "execute_result"
    }
   ],
   "source": [
    "s = \"Hello there\"\n",
    "s"
   ]
  },
  {
   "cell_type": "markdown",
   "id": "488201c6-7109-4050-8b2b-8d40e79fb2a1",
   "metadata": {},
   "source": [
    "### Multi Line strings -> Docstrings "
   ]
  },
  {
   "cell_type": "code",
   "execution_count": 6,
   "id": "7526c962-f996-464e-8899-44df68ae352f",
   "metadata": {},
   "outputs": [
    {
     "name": "stdout",
     "output_type": "stream",
     "text": [
      " Hey\n",
      "There you can check i am writing in \n",
      "multiple lines\n",
      "\n"
     ]
    }
   ],
   "source": [
    "s = ''' Hey\n",
    "There you can check i am writing in \n",
    "multiple lines\n",
    "'''\n",
    "print(s)"
   ]
  },
  {
   "cell_type": "code",
   "execution_count": 7,
   "id": "e4830aeb-dbbf-4762-bbf0-d96af592391a",
   "metadata": {},
   "outputs": [],
   "source": [
    "a = 2\n",
    "s = str(a)"
   ]
  },
  {
   "cell_type": "code",
   "execution_count": 9,
   "id": "bfb81875-dca9-4079-8a29-d235d479dfb3",
   "metadata": {},
   "outputs": [
    {
     "data": {
      "text/plain": [
       "'2'"
      ]
     },
     "execution_count": 9,
     "metadata": {},
     "output_type": "execute_result"
    }
   ],
   "source": [
    "s"
   ]
  },
  {
   "cell_type": "markdown",
   "id": "9a911d78-add4-4082-ba2b-2535741a88cb",
   "metadata": {},
   "source": [
    "### Accessing substring from a string"
   ]
  },
  {
   "cell_type": "markdown",
   "id": "88f20324-8a3c-4580-bd82-014b4e07c136",
   "metadata": {},
   "source": [
    "#### Indexing -> Positive and Negative Indexing"
   ]
  },
  {
   "cell_type": "code",
   "execution_count": 10,
   "id": "483f65fe-6ad3-48d9-a1c5-003092a569d6",
   "metadata": {},
   "outputs": [
    {
     "data": {
      "text/plain": [
       "'Hello World'"
      ]
     },
     "execution_count": 10,
     "metadata": {},
     "output_type": "execute_result"
    }
   ],
   "source": [
    "s = 'Hello World'\n",
    "s"
   ]
  },
  {
   "cell_type": "code",
   "execution_count": 11,
   "id": "70050862-73bd-440b-a578-6e8206a13af1",
   "metadata": {},
   "outputs": [
    {
     "data": {
      "text/plain": [
       "'e'"
      ]
     },
     "execution_count": 11,
     "metadata": {},
     "output_type": "execute_result"
    }
   ],
   "source": [
    "s[1]"
   ]
  },
  {
   "cell_type": "code",
   "execution_count": 12,
   "id": "a39bd3ec-4da8-4ffa-85f3-debcb15ed6ef",
   "metadata": {},
   "outputs": [
    {
     "data": {
      "text/plain": [
       "'d'"
      ]
     },
     "execution_count": 12,
     "metadata": {},
     "output_type": "execute_result"
    }
   ],
   "source": [
    "s[-1]"
   ]
  },
  {
   "cell_type": "code",
   "execution_count": 14,
   "id": "8ca83abb-129d-4a10-89f4-3b616254e0d8",
   "metadata": {},
   "outputs": [
    {
     "data": {
      "text/plain": [
       "True"
      ]
     },
     "execution_count": 14,
     "metadata": {},
     "output_type": "execute_result"
    }
   ],
   "source": [
    "s[-6]==s[5]"
   ]
  },
  {
   "cell_type": "markdown",
   "id": "a278ef12-20d1-4dac-8772-854dd2ea7e97",
   "metadata": {},
   "source": [
    "### Slicing "
   ]
  },
  {
   "cell_type": "code",
   "execution_count": 16,
   "id": "3c3b8324-c52e-451e-aeb6-456f7e3eace2",
   "metadata": {},
   "outputs": [
    {
     "data": {
      "text/plain": [
       "'o W'"
      ]
     },
     "execution_count": 16,
     "metadata": {},
     "output_type": "execute_result"
    }
   ],
   "source": [
    "s[4:7]"
   ]
  },
  {
   "cell_type": "code",
   "execution_count": 17,
   "id": "f3391c59-3c2b-44e4-8e0b-c740ac8018e9",
   "metadata": {},
   "outputs": [
    {
     "data": {
      "text/plain": [
       "'Hello World'"
      ]
     },
     "execution_count": 17,
     "metadata": {},
     "output_type": "execute_result"
    }
   ],
   "source": [
    "s"
   ]
  },
  {
   "cell_type": "code",
   "execution_count": 22,
   "id": "b466ab5e-e4a3-455f-a096-3e61cc8f01ff",
   "metadata": {},
   "outputs": [
    {
     "data": {
      "text/plain": [
       "'rl'"
      ]
     },
     "execution_count": 22,
     "metadata": {},
     "output_type": "execute_result"
    }
   ],
   "source": [
    "s[-3:-1]"
   ]
  },
  {
   "cell_type": "code",
   "execution_count": 23,
   "id": "6225d89c-dbed-4192-9544-09836dab259e",
   "metadata": {},
   "outputs": [
    {
     "data": {
      "text/plain": [
       "'dl'"
      ]
     },
     "execution_count": 23,
     "metadata": {},
     "output_type": "execute_result"
    }
   ],
   "source": [
    "s[-1:-3:-1]  # negative direction therefore we need to have [::-1], here to go from right to left , otherwise by default it is left to right"
   ]
  },
  {
   "cell_type": "code",
   "execution_count": 25,
   "id": "61e260f3-db03-400d-a7b8-c066ad68258d",
   "metadata": {},
   "outputs": [
    {
     "data": {
      "text/plain": [
       "'Hlo'"
      ]
     },
     "execution_count": 25,
     "metadata": {},
     "output_type": "execute_result"
    }
   ],
   "source": [
    "s[0:6:2]  # step size"
   ]
  },
  {
   "cell_type": "code",
   "execution_count": 26,
   "id": "4e83098e-f4f7-46b5-9718-b6be555fa676",
   "metadata": {},
   "outputs": [
    {
     "data": {
      "text/plain": [
       "'dlroW olleH'"
      ]
     },
     "execution_count": 26,
     "metadata": {},
     "output_type": "execute_result"
    }
   ],
   "source": [
    "s[::-1]"
   ]
  },
  {
   "cell_type": "markdown",
   "id": "6be00125-ec74-4976-a2db-a5efbb2881d0",
   "metadata": {},
   "source": [
    "### Editing and Deleting a string"
   ]
  },
  {
   "cell_type": "code",
   "execution_count": 27,
   "id": "ff78a60c-653e-4b48-ae7a-1364147a61c9",
   "metadata": {},
   "outputs": [],
   "source": [
    "s = 'hey there what is happening'"
   ]
  },
  {
   "cell_type": "code",
   "execution_count": null,
   "id": "b318d490-1ec5-4b93-889d-6d49c62ff752",
   "metadata": {},
   "outputs": [],
   "source": []
  },
  {
   "cell_type": "code",
   "execution_count": 30,
   "id": "7f197900-2807-403b-a8d7-b1bcc33f4a3e",
   "metadata": {},
   "outputs": [],
   "source": [
    "s=s.capitalize()"
   ]
  },
  {
   "cell_type": "code",
   "execution_count": 31,
   "id": "31ac39b8-319d-47dc-8502-1a32502af927",
   "metadata": {},
   "outputs": [
    {
     "data": {
      "text/plain": [
       "'Hey there what is happening'"
      ]
     },
     "execution_count": 31,
     "metadata": {},
     "output_type": "execute_result"
    }
   ],
   "source": [
    "s"
   ]
  },
  {
   "cell_type": "code",
   "execution_count": 32,
   "id": "ce5b0ad3-c3c7-4ac7-adea-eade7f8e9e2c",
   "metadata": {},
   "outputs": [
    {
     "data": {
      "text/plain": [
       "'HEY THERE WHAT IS HAPPENING'"
      ]
     },
     "execution_count": 32,
     "metadata": {},
     "output_type": "execute_result"
    }
   ],
   "source": [
    "s.upper()"
   ]
  },
  {
   "cell_type": "code",
   "execution_count": 33,
   "id": "5d46a9c9-3a86-4ae9-87b0-630e7ce87516",
   "metadata": {},
   "outputs": [
    {
     "data": {
      "text/plain": [
       "'hey there what is happening'"
      ]
     },
     "execution_count": 33,
     "metadata": {},
     "output_type": "execute_result"
    }
   ],
   "source": [
    "s.lower()"
   ]
  },
  {
   "cell_type": "code",
   "execution_count": 34,
   "id": "c9bfd61c-ff6a-4022-9e03-70f345ae01bd",
   "metadata": {},
   "outputs": [
    {
     "data": {
      "text/plain": [
       "'Hey there what is happening'"
      ]
     },
     "execution_count": 34,
     "metadata": {},
     "output_type": "execute_result"
    }
   ],
   "source": [
    "s"
   ]
  },
  {
   "cell_type": "code",
   "execution_count": 36,
   "id": "22e1f5ab-a0d6-4c5d-b9f3-aae47e6c75fc",
   "metadata": {},
   "outputs": [
    {
     "ename": "TypeError",
     "evalue": "'str' object does not support item assignment",
     "output_type": "error",
     "traceback": [
      "\u001b[1;31m---------------------------------------------------------------------------\u001b[0m",
      "\u001b[1;31mTypeError\u001b[0m                                 Traceback (most recent call last)",
      "Cell \u001b[1;32mIn[36], line 1\u001b[0m\n\u001b[1;32m----> 1\u001b[0m s[\u001b[38;5;241m2\u001b[39m]\u001b[38;5;241m=\u001b[39m\u001b[38;5;124m'\u001b[39m\u001b[38;5;124mY\u001b[39m\u001b[38;5;124m'\u001b[39m\n",
      "\u001b[1;31mTypeError\u001b[0m: 'str' object does not support item assignment"
     ]
    }
   ],
   "source": [
    "s[2]='Y'"
   ]
  },
  {
   "cell_type": "markdown",
   "id": "80cd7df0-6d00-4b1e-b8d1-a4cdd3f687fb",
   "metadata": {},
   "source": [
    "#### deleting a string"
   ]
  },
  {
   "cell_type": "code",
   "execution_count": 37,
   "id": "08430f3a-2154-439a-b677-530ed9b289bd",
   "metadata": {},
   "outputs": [],
   "source": [
    "del s"
   ]
  },
  {
   "cell_type": "code",
   "execution_count": 39,
   "id": "b142d576-00fe-48b6-a4f6-db7725fc5bb1",
   "metadata": {},
   "outputs": [],
   "source": [
    "s = 'hello word'"
   ]
  },
  {
   "cell_type": "code",
   "execution_count": 40,
   "id": "ff29cd2d-ac0a-4fc4-bce7-3410d7bf63f2",
   "metadata": {},
   "outputs": [
    {
     "data": {
      "text/plain": [
       "'hello word'"
      ]
     },
     "execution_count": 40,
     "metadata": {},
     "output_type": "execute_result"
    }
   ],
   "source": [
    "s"
   ]
  },
  {
   "cell_type": "code",
   "execution_count": 41,
   "id": "955d5c93-f378-4cd8-a61e-9f36a441365e",
   "metadata": {},
   "outputs": [
    {
     "data": {
      "text/plain": [
       "'Hello word'"
      ]
     },
     "execution_count": 41,
     "metadata": {},
     "output_type": "execute_result"
    }
   ],
   "source": [
    "s.capitalize()"
   ]
  },
  {
   "cell_type": "code",
   "execution_count": 42,
   "id": "0ba8a7ee-64b4-42c0-bcf6-0a9577451034",
   "metadata": {},
   "outputs": [
    {
     "data": {
      "text/plain": [
       "'hello word'"
      ]
     },
     "execution_count": 42,
     "metadata": {},
     "output_type": "execute_result"
    }
   ],
   "source": [
    "s"
   ]
  },
  {
   "cell_type": "code",
   "execution_count": 44,
   "id": "0b28fe6a-4f71-4934-aa97-73718907ebd6",
   "metadata": {},
   "outputs": [
    {
     "data": {
      "text/plain": [
       "'do'"
      ]
     },
     "execution_count": 44,
     "metadata": {},
     "output_type": "execute_result"
    }
   ],
   "source": [
    "s[-1:-5:-2]"
   ]
  },
  {
   "cell_type": "code",
   "execution_count": 45,
   "id": "4b533378-0323-4e31-bf70-363e7362472c",
   "metadata": {},
   "outputs": [
    {
     "ename": "TypeError",
     "evalue": "'str' object does not support item deletion",
     "output_type": "error",
     "traceback": [
      "\u001b[1;31m---------------------------------------------------------------------------\u001b[0m",
      "\u001b[1;31mTypeError\u001b[0m                                 Traceback (most recent call last)",
      "Cell \u001b[1;32mIn[45], line 1\u001b[0m\n\u001b[1;32m----> 1\u001b[0m \u001b[38;5;28;01mdel\u001b[39;00m s[\u001b[38;5;241m-\u001b[39m\u001b[38;5;241m1\u001b[39m:\u001b[38;5;241m-\u001b[39m\u001b[38;5;241m5\u001b[39m:\u001b[38;5;241m-\u001b[39m\u001b[38;5;241m2\u001b[39m]\n",
      "\u001b[1;31mTypeError\u001b[0m: 'str' object does not support item deletion"
     ]
    }
   ],
   "source": [
    "del s[-1:-5:-2]"
   ]
  },
  {
   "cell_type": "markdown",
   "id": "c0b7e7ef-a5d1-4488-838a-6a0d0d568108",
   "metadata": {},
   "source": [
    "#### we cannot delete part of strings"
   ]
  },
  {
   "cell_type": "code",
   "execution_count": null,
   "id": "87fbda4e-1f8f-48a4-b86e-207e60100010",
   "metadata": {},
   "outputs": [],
   "source": []
  },
  {
   "cell_type": "code",
   "execution_count": null,
   "id": "4836c4a1-1ad7-4d73-880c-8c05b8a72e08",
   "metadata": {},
   "outputs": [],
   "source": []
  },
  {
   "cell_type": "markdown",
   "id": "91f2dddb-7841-42d4-bb6c-f4fc696ad26c",
   "metadata": {},
   "source": [
    "## Operators on String"
   ]
  },
  {
   "cell_type": "markdown",
   "id": "a9a9af78-6dfb-4986-865a-8456286332c5",
   "metadata": {},
   "source": [
    "### Arithmetic operators -> + (Concatenation) and * (Repetition)"
   ]
  },
  {
   "cell_type": "code",
   "execution_count": 64,
   "id": "28fca610-05b2-4401-b65b-12889be407b6",
   "metadata": {},
   "outputs": [],
   "source": [
    "str1 = 'Hello There '\n",
    "str2 = 'What are you doing'\n",
    "str = str1+str2  # Addition is concatenation"
   ]
  },
  {
   "cell_type": "code",
   "execution_count": 65,
   "id": "2461e462-64d5-42c3-b50d-47ae0ae5c44d",
   "metadata": {},
   "outputs": [
    {
     "data": {
      "text/plain": [
       "'Hello There What are you doing'"
      ]
     },
     "execution_count": 65,
     "metadata": {},
     "output_type": "execute_result"
    }
   ],
   "source": [
    "str"
   ]
  },
  {
   "cell_type": "code",
   "execution_count": 51,
   "id": "9b98e2ff-68f7-4c2a-a9a9-4be1af14752e",
   "metadata": {},
   "outputs": [
    {
     "data": {
      "text/plain": [
       "False"
      ]
     },
     "execution_count": 51,
     "metadata": {},
     "output_type": "execute_result"
    }
   ],
   "source": [
    "str1>str2"
   ]
  },
  {
   "cell_type": "code",
   "execution_count": 52,
   "id": "e6742078-8312-4615-b8c7-5c290bc0888a",
   "metadata": {},
   "outputs": [],
   "source": [
    "str2 = 'h'"
   ]
  },
  {
   "cell_type": "code",
   "execution_count": 54,
   "id": "9d612ac8-9067-46ec-be83-50b3b9742e45",
   "metadata": {},
   "outputs": [
    {
     "data": {
      "text/plain": [
       "'h'"
      ]
     },
     "execution_count": 54,
     "metadata": {},
     "output_type": "execute_result"
    }
   ],
   "source": [
    "str2"
   ]
  },
  {
   "cell_type": "code",
   "execution_count": 59,
   "id": "67a5162b-47a1-47c0-b64c-869d83394829",
   "metadata": {},
   "outputs": [
    {
     "data": {
      "text/plain": [
       "'Hello There Hello There '"
      ]
     },
     "execution_count": 59,
     "metadata": {},
     "output_type": "execute_result"
    }
   ],
   "source": [
    "str1*2  # Multiplication is repetition"
   ]
  },
  {
   "cell_type": "code",
   "execution_count": 60,
   "id": "8ee263d9-5807-4244-97ce-9e320fdb0877",
   "metadata": {},
   "outputs": [],
   "source": [
    "lst = [1,2,3,4]"
   ]
  },
  {
   "cell_type": "code",
   "execution_count": 61,
   "id": "350096f8-28e5-4bc7-9b78-e0d9d0061099",
   "metadata": {},
   "outputs": [
    {
     "data": {
      "text/plain": [
       "[1, 2, 3, 4, 1, 2, 3, 4, 1, 2, 3, 4]"
      ]
     },
     "execution_count": 61,
     "metadata": {},
     "output_type": "execute_result"
    }
   ],
   "source": [
    "lst*3"
   ]
  },
  {
   "cell_type": "code",
   "execution_count": 62,
   "id": "2515ac69-a259-4830-a56b-4d0e98a6db63",
   "metadata": {},
   "outputs": [],
   "source": [
    "for i in lst:\n",
    "    i=i*3"
   ]
  },
  {
   "cell_type": "code",
   "execution_count": 63,
   "id": "011ac370-231e-4f4d-8aa5-ebea5e8e1593",
   "metadata": {},
   "outputs": [
    {
     "data": {
      "text/plain": [
       "[3, 6, 9, 12]"
      ]
     },
     "execution_count": 63,
     "metadata": {},
     "output_type": "execute_result"
    }
   ],
   "source": [
    "[i*3 for i in lst]"
   ]
  },
  {
   "cell_type": "code",
   "execution_count": 66,
   "id": "a8c6eb31-dcf9-4835-bdf9-dc5e901ec46e",
   "metadata": {},
   "outputs": [
    {
     "name": "stdout",
     "output_type": "stream",
     "text": [
      "**************************************************\n"
     ]
    }
   ],
   "source": [
    "print(\"*\"*50)"
   ]
  },
  {
   "cell_type": "markdown",
   "id": "d8cb8378-fc31-4928-b090-e9565a78812a",
   "metadata": {},
   "source": [
    "### Relational Operators"
   ]
  },
  {
   "cell_type": "code",
   "execution_count": 67,
   "id": "213e91b0-a0c3-4ad8-b3c5-5f42f1aebbda",
   "metadata": {},
   "outputs": [
    {
     "data": {
      "text/plain": [
       "False"
      ]
     },
     "execution_count": 67,
     "metadata": {},
     "output_type": "execute_result"
    }
   ],
   "source": [
    "'delhi' == 'Delhi'"
   ]
  },
  {
   "cell_type": "code",
   "execution_count": 68,
   "id": "ae91283e-998f-4f00-a50e-7aec826d7301",
   "metadata": {},
   "outputs": [
    {
     "data": {
      "text/plain": [
       "False"
      ]
     },
     "execution_count": 68,
     "metadata": {},
     "output_type": "execute_result"
    }
   ],
   "source": [
    "'mumbai'>'pune'"
   ]
  },
  {
   "cell_type": "markdown",
   "id": "39f8be59-df04-46f5-bbfc-50e7f0ea94ae",
   "metadata": {},
   "source": [
    "#### lexiographically comparison(unicode/ASCII comparison)"
   ]
  },
  {
   "cell_type": "code",
   "execution_count": null,
   "id": "0cddb06d-a269-47b4-94b4-c7c957113e90",
   "metadata": {},
   "outputs": [],
   "source": []
  },
  {
   "cell_type": "code",
   "execution_count": null,
   "id": "5470b930-ad5e-4fc9-895b-350ed8b6de71",
   "metadata": {},
   "outputs": [],
   "source": []
  },
  {
   "cell_type": "markdown",
   "id": "c2342d05-b774-455e-9abc-a96d7151ba0a",
   "metadata": {},
   "source": [
    "### Logical Operators -> Python Shows an awkward behaviour in logical operators"
   ]
  },
  {
   "cell_type": "markdown",
   "id": "ec66a2c8-f8f9-458f-903e-7952080d3d30",
   "metadata": {},
   "source": [
    "#### What it does is empty it considers as False and anything non-empty it considers as True"
   ]
  },
  {
   "cell_type": "code",
   "execution_count": 71,
   "id": "1efda0c8-8eca-4b32-9af2-8413231abe2c",
   "metadata": {},
   "outputs": [
    {
     "data": {
      "text/plain": [
       "'world'"
      ]
     },
     "execution_count": 71,
     "metadata": {},
     "output_type": "execute_result"
    }
   ],
   "source": [
    "'hello' and 'world' # it went to check till world therefore world"
   ]
  },
  {
   "cell_type": "code",
   "execution_count": 72,
   "id": "3003cd1e-e7b1-40cd-af55-8b92abd462bc",
   "metadata": {},
   "outputs": [
    {
     "data": {
      "text/plain": [
       "'hello'"
      ]
     },
     "execution_count": 72,
     "metadata": {},
     "output_type": "execute_result"
    }
   ],
   "source": [
    "'hello' or 'world'  # it only checked till hello since , 'hello' gave true and due to 'or' operators it only checked 1st in true case"
   ]
  },
  {
   "cell_type": "code",
   "execution_count": 74,
   "id": "18eddf7b-13e9-4286-8be1-434b7514da6b",
   "metadata": {},
   "outputs": [
    {
     "data": {
      "text/plain": [
       "'world'"
      ]
     },
     "execution_count": 74,
     "metadata": {},
     "output_type": "execute_result"
    }
   ],
   "source": [
    "'' or 'world' # it showed 'world' because '' showed false , therefore due to OR we went to check 'world' , it gave true therefore the O/P is 'world'"
   ]
  },
  {
   "cell_type": "code",
   "execution_count": 75,
   "id": "df68e6cc-5118-4419-a1de-6f8a57abddd6",
   "metadata": {},
   "outputs": [
    {
     "data": {
      "text/plain": [
       "False"
      ]
     },
     "execution_count": 75,
     "metadata": {},
     "output_type": "execute_result"
    }
   ],
   "source": [
    "not 'Hello'"
   ]
  },
  {
   "cell_type": "code",
   "execution_count": 76,
   "id": "4420a894-e827-4816-8540-b859e75d518d",
   "metadata": {},
   "outputs": [
    {
     "data": {
      "text/plain": [
       "True"
      ]
     },
     "execution_count": 76,
     "metadata": {},
     "output_type": "execute_result"
    }
   ],
   "source": [
    "not ''"
   ]
  },
  {
   "cell_type": "code",
   "execution_count": 77,
   "id": "2a536ede-4ac5-41ad-838e-d99dc6e96ac1",
   "metadata": {},
   "outputs": [
    {
     "data": {
      "text/plain": [
       "'Hello There What are you doing'"
      ]
     },
     "execution_count": 77,
     "metadata": {},
     "output_type": "execute_result"
    }
   ],
   "source": [
    "str"
   ]
  },
  {
   "cell_type": "markdown",
   "id": "5b393c04-fea7-4b9f-b383-6e687fbca318",
   "metadata": {},
   "source": [
    "## String in python is an iterable"
   ]
  },
  {
   "cell_type": "code",
   "execution_count": 79,
   "id": "66327ba0-44c9-44ff-a2b4-736d57ff9dcb",
   "metadata": {},
   "outputs": [
    {
     "name": "stdout",
     "output_type": "stream",
     "text": [
      "H\n",
      "e\n",
      "l\n",
      "l\n",
      "o\n",
      " \n",
      "T\n",
      "h\n",
      "e\n",
      "r\n",
      "e\n",
      " \n",
      "W\n",
      "h\n",
      "a\n",
      "t\n",
      " \n",
      "a\n",
      "r\n",
      "e\n",
      " \n",
      "y\n",
      "o\n",
      "u\n",
      " \n",
      "d\n",
      "o\n",
      "i\n",
      "n\n",
      "g\n"
     ]
    }
   ],
   "source": [
    "for i in str:\n",
    "    print(i)"
   ]
  },
  {
   "cell_type": "code",
   "execution_count": 83,
   "id": "58ca1eb0-2297-4673-9641-eeace82541fe",
   "metadata": {},
   "outputs": [
    {
     "name": "stdout",
     "output_type": "stream",
     "text": [
      "Hello\n",
      "There\n",
      "What\n",
      "are\n",
      "you\n",
      "doing\n"
     ]
    }
   ],
   "source": [
    "for i in str.split():  # str.spli() divides the string into list of words\n",
    "    print(i)"
   ]
  },
  {
   "cell_type": "code",
   "execution_count": 85,
   "id": "fd122be0-4bca-4320-ac26-0f53192ff480",
   "metadata": {},
   "outputs": [
    {
     "name": "stdout",
     "output_type": "stream",
     "text": [
      "pune\n",
      "pune\n",
      "pune\n",
      "pune\n",
      "pune\n"
     ]
    }
   ],
   "source": [
    "for i in 'delhi':\n",
    "    print('pune')"
   ]
  },
  {
   "cell_type": "markdown",
   "id": "6ae77b2d-ef01-4b79-acd5-f29aa45f039b",
   "metadata": {},
   "source": [
    "### Membership works in String"
   ]
  },
  {
   "cell_type": "code",
   "execution_count": 86,
   "id": "de672876-49eb-4a19-9667-f2be1522e418",
   "metadata": {},
   "outputs": [
    {
     "data": {
      "text/plain": [
       "True"
      ]
     },
     "execution_count": 86,
     "metadata": {},
     "output_type": "execute_result"
    }
   ],
   "source": [
    "'f' in 'finland'"
   ]
  },
  {
   "cell_type": "markdown",
   "id": "02efcb02-6a6d-4ac3-a935-0e0460bbbff3",
   "metadata": {},
   "source": [
    "### String Functions"
   ]
  },
  {
   "cell_type": "code",
   "execution_count": 87,
   "id": "05eeff92-9ae5-4e12-9cac-35edc74adff1",
   "metadata": {},
   "outputs": [
    {
     "data": {
      "text/plain": [
       "11"
      ]
     },
     "execution_count": 87,
     "metadata": {},
     "output_type": "execute_result"
    }
   ],
   "source": [
    "len('Hello World')"
   ]
  },
  {
   "cell_type": "code",
   "execution_count": 89,
   "id": "80da9f69-8035-4ac2-a273-74e158da2a5c",
   "metadata": {},
   "outputs": [
    {
     "data": {
      "text/plain": [
       "'r'"
      ]
     },
     "execution_count": 89,
     "metadata": {},
     "output_type": "execute_result"
    }
   ],
   "source": [
    "max('Hello World')  # extracts the maximum value on the basis of ascii values"
   ]
  },
  {
   "cell_type": "code",
   "execution_count": 90,
   "id": "acc6e27e-d9f0-4115-99ee-4f30bf5f115a",
   "metadata": {},
   "outputs": [
    {
     "data": {
      "text/plain": [
       "' '"
      ]
     },
     "execution_count": 90,
     "metadata": {},
     "output_type": "execute_result"
    }
   ],
   "source": [
    "min('Hello World')  # extracts the minimum value o the basis of ascii values"
   ]
  },
  {
   "cell_type": "code",
   "execution_count": 91,
   "id": "42645e41-8d63-4f24-a147-3a0dbe8a629c",
   "metadata": {},
   "outputs": [
    {
     "data": {
      "text/plain": [
       "[' ', 'd', 'e', 'h', 'l', 'l', 'l', 'o', 'o', 'r', 'w']"
      ]
     },
     "execution_count": 91,
     "metadata": {},
     "output_type": "execute_result"
    }
   ],
   "source": [
    "sorted('hello world')"
   ]
  },
  {
   "cell_type": "code",
   "execution_count": 92,
   "id": "af7d90b8-7a50-48ab-9d07-0bc071c24ad2",
   "metadata": {},
   "outputs": [
    {
     "data": {
      "text/plain": [
       "['w', 'r', 'o', 'o', 'l', 'l', 'l', 'h', 'e', 'd', ' ']"
      ]
     },
     "execution_count": 92,
     "metadata": {},
     "output_type": "execute_result"
    }
   ],
   "source": [
    "sorted('hello world', reverse=True)"
   ]
  },
  {
   "cell_type": "markdown",
   "id": "5c23fb49-a4ea-4b03-81a3-1c1bcd11bd23",
   "metadata": {},
   "source": [
    "### Only string functions"
   ]
  },
  {
   "cell_type": "markdown",
   "id": "626c290e-2c65-41dc-8e4d-b65c82627a8c",
   "metadata": {},
   "source": [
    "##### Capitalize/Title/Upper/Lower/Swapcase"
   ]
  },
  {
   "cell_type": "code",
   "execution_count": 93,
   "id": "74d55d4d-d955-489e-9f65-5ede5aef750b",
   "metadata": {},
   "outputs": [
    {
     "data": {
      "text/plain": [
       "'Hello word'"
      ]
     },
     "execution_count": 93,
     "metadata": {},
     "output_type": "execute_result"
    }
   ],
   "source": [
    "s.capitalize()"
   ]
  },
  {
   "cell_type": "code",
   "execution_count": 95,
   "id": "d5921d6c-38eb-416e-affa-0b81930fb492",
   "metadata": {},
   "outputs": [
    {
     "data": {
      "text/plain": [
       "'Hello Word'"
      ]
     },
     "execution_count": 95,
     "metadata": {},
     "output_type": "execute_result"
    }
   ],
   "source": [
    "s.title()"
   ]
  },
  {
   "cell_type": "code",
   "execution_count": 96,
   "id": "9e9c4a23-6bb6-4924-882a-c38f6f343154",
   "metadata": {},
   "outputs": [
    {
     "data": {
      "text/plain": [
       "'HELLO WORD'"
      ]
     },
     "execution_count": 96,
     "metadata": {},
     "output_type": "execute_result"
    }
   ],
   "source": [
    "s.upper()"
   ]
  },
  {
   "cell_type": "code",
   "execution_count": 97,
   "id": "f009d1d1-42fd-49c7-b72a-72a0e8069391",
   "metadata": {},
   "outputs": [
    {
     "data": {
      "text/plain": [
       "'hello word'"
      ]
     },
     "execution_count": 97,
     "metadata": {},
     "output_type": "execute_result"
    }
   ],
   "source": [
    "s.lower()"
   ]
  },
  {
   "cell_type": "code",
   "execution_count": 99,
   "id": "8b597a09-2f85-4441-88a0-e9e8e48d30f7",
   "metadata": {},
   "outputs": [
    {
     "data": {
      "text/plain": [
       "'HELLO WORD'"
      ]
     },
     "execution_count": 99,
     "metadata": {},
     "output_type": "execute_result"
    }
   ],
   "source": [
    "s.swapcase()"
   ]
  },
  {
   "cell_type": "markdown",
   "id": "2edca887-1233-496c-9637-eea075bfbe14",
   "metadata": {},
   "source": [
    "### Count/Find/Index"
   ]
  },
  {
   "cell_type": "code",
   "execution_count": 104,
   "id": "86624e81-f700-4954-8082-614131c126bf",
   "metadata": {},
   "outputs": [],
   "source": [
    "s = 'Hheelllo Wooorlld'"
   ]
  },
  {
   "cell_type": "code",
   "execution_count": 108,
   "id": "fbd01eeb-80a4-4c0a-bb27-de3778de76fc",
   "metadata": {},
   "outputs": [
    {
     "data": {
      "text/plain": [
       "2"
      ]
     },
     "execution_count": 108,
     "metadata": {},
     "output_type": "execute_result"
    }
   ],
   "source": [
    "s.count('ll') # number of occurence of a substring or character"
   ]
  },
  {
   "cell_type": "code",
   "execution_count": 116,
   "id": "b4517350-a96b-4101-9a32-618ef6c31142",
   "metadata": {},
   "outputs": [
    {
     "data": {
      "text/plain": [
       "4"
      ]
     },
     "execution_count": 116,
     "metadata": {},
     "output_type": "execute_result"
    }
   ],
   "source": [
    "s.find('l') # index of first occurence of a substring, returns -1 if not found"
   ]
  },
  {
   "cell_type": "code",
   "execution_count": 117,
   "id": "61ba2a12-b478-4272-809b-bf6708466241",
   "metadata": {},
   "outputs": [
    {
     "data": {
      "text/plain": [
       "-1"
      ]
     },
     "execution_count": 117,
     "metadata": {},
     "output_type": "execute_result"
    }
   ],
   "source": [
    "s.find('z')"
   ]
  },
  {
   "cell_type": "code",
   "execution_count": 114,
   "id": "a31d8bd1-5b86-49e2-94c0-4405b3794eb4",
   "metadata": {},
   "outputs": [
    {
     "ename": "ValueError",
     "evalue": "substring not found",
     "output_type": "error",
     "traceback": [
      "\u001b[1;31m---------------------------------------------------------------------------\u001b[0m",
      "\u001b[1;31mValueError\u001b[0m                                Traceback (most recent call last)",
      "Cell \u001b[1;32mIn[114], line 1\u001b[0m\n\u001b[1;32m----> 1\u001b[0m s\u001b[38;5;241m.\u001b[39mindex(\u001b[38;5;124m'\u001b[39m\u001b[38;5;124mz\u001b[39m\u001b[38;5;124m'\u001b[39m)\n",
      "\u001b[1;31mValueError\u001b[0m: substring not found"
     ]
    }
   ],
   "source": [
    "s.index('z') # returns value error if not found"
   ]
  },
  {
   "cell_type": "markdown",
   "id": "ea34c3b3-4eda-4e58-9bc5-63ef790e4d71",
   "metadata": {},
   "source": [
    "### endswith/startswith"
   ]
  },
  {
   "cell_type": "code",
   "execution_count": 120,
   "id": "2ea5b572-317e-4237-8898-de0129c5f370",
   "metadata": {},
   "outputs": [
    {
     "data": {
      "text/plain": [
       "True"
      ]
     },
     "execution_count": 120,
     "metadata": {},
     "output_type": "execute_result"
    }
   ],
   "source": [
    "'subrat bahuguna'.endswith('una')"
   ]
  },
  {
   "cell_type": "markdown",
   "id": "2d879720-32c7-4185-8bf6-c98da0144c56",
   "metadata": {},
   "source": [
    "### format -> important (used to insert the values at the particular point where {} placeholders are mentioned)"
   ]
  },
  {
   "cell_type": "code",
   "execution_count": 122,
   "id": "f0ef5ca8-d1de-46c2-b1b8-a82df1ad1e69",
   "metadata": {},
   "outputs": [
    {
     "data": {
      "text/plain": [
       "'my name is Subrat, and i work in department IT'"
      ]
     },
     "execution_count": 122,
     "metadata": {},
     "output_type": "execute_result"
    }
   ],
   "source": [
    "'my name is {}, and i work in department {}'.format('Subrat','IT')"
   ]
  },
  {
   "cell_type": "code",
   "execution_count": 130,
   "id": "e2b5a82e-5a31-4317-9e8a-e919c6dcc700",
   "metadata": {},
   "outputs": [
    {
     "name": "stdout",
     "output_type": "stream",
     "text": [
      "my name is Subrat and i work in department IT\n"
     ]
    }
   ],
   "source": [
    "name = 'Subrat'\n",
    "dep = 'IT'\n",
    "print(f'my name is {name} and i work in department {dep}')"
   ]
  },
  {
   "cell_type": "markdown",
   "id": "7b8e1147-c15c-4a3f-acb8-adba003c3632",
   "metadata": {},
   "source": [
    "### isalnum/isalpha/isdigit/isidentifier"
   ]
  },
  {
   "cell_type": "code",
   "execution_count": 131,
   "id": "ef545667-6e1a-4242-b871-fd9fa17fa6d7",
   "metadata": {},
   "outputs": [
    {
     "data": {
      "text/plain": [
       "False"
      ]
     },
     "execution_count": 131,
     "metadata": {},
     "output_type": "execute_result"
    }
   ],
   "source": [
    "'hey you have 2 rupees'.isalpha()"
   ]
  },
  {
   "cell_type": "code",
   "execution_count": 134,
   "id": "70d085cf-a50f-4cf7-8ea0-242d203ba9bc",
   "metadata": {},
   "outputs": [
    {
     "data": {
      "text/plain": [
       "False"
      ]
     },
     "execution_count": 134,
     "metadata": {},
     "output_type": "execute_result"
    }
   ],
   "source": [
    "'hey you have 2 rupees'.isalnum()"
   ]
  },
  {
   "cell_type": "code",
   "execution_count": 135,
   "id": "7c0c9202-e04d-44ad-9e67-2a3e23c3334e",
   "metadata": {},
   "outputs": [
    {
     "data": {
      "text/plain": [
       "True"
      ]
     },
     "execution_count": 135,
     "metadata": {},
     "output_type": "execute_result"
    }
   ],
   "source": [
    "'Subrat2196'.isalnum()"
   ]
  },
  {
   "cell_type": "code",
   "execution_count": 136,
   "id": "1592056e-83a1-4833-ad07-d72dc36c2372",
   "metadata": {},
   "outputs": [
    {
     "data": {
      "text/plain": [
       "False"
      ]
     },
     "execution_count": 136,
     "metadata": {},
     "output_type": "execute_result"
    }
   ],
   "source": [
    "'1hello'.isidentifier()"
   ]
  },
  {
   "cell_type": "markdown",
   "id": "6419d80d-09a5-4204-bb0a-2b317c38257e",
   "metadata": {},
   "source": [
    "### Split function - very very important"
   ]
  },
  {
   "cell_type": "code",
   "execution_count": 141,
   "id": "17bfe524-5930-41a1-bbf8-92d12bf51aee",
   "metadata": {},
   "outputs": [
    {
     "data": {
      "text/plain": [
       "['hi', 'my', 'name', 'is', 'nitish']"
      ]
     },
     "execution_count": 141,
     "metadata": {},
     "output_type": "execute_result"
    }
   ],
   "source": [
    "'hi my name is nitish'.split()"
   ]
  },
  {
   "cell_type": "code",
   "execution_count": 142,
   "id": "689ce55a-f218-4259-b675-e14107e95640",
   "metadata": {},
   "outputs": [
    {
     "data": {
      "text/plain": [
       "['h', ' my name ', 's n', 't', 'sh']"
      ]
     },
     "execution_count": 142,
     "metadata": {},
     "output_type": "execute_result"
    }
   ],
   "source": [
    "'hi my name is nitish'.split('i')"
   ]
  },
  {
   "cell_type": "markdown",
   "id": "2cd6473a-3370-45a8-b26d-fb92b5733262",
   "metadata": {},
   "source": [
    "### Join -> getting back the string from list "
   ]
  },
  {
   "cell_type": "code",
   "execution_count": 143,
   "id": "b69fa87c-1545-4354-9b66-defe437c09f0",
   "metadata": {},
   "outputs": [],
   "source": [
    "lst = 'hello my name is subrat bahuguna'.split()"
   ]
  },
  {
   "cell_type": "code",
   "execution_count": 144,
   "id": "77472a8c-3f70-4b91-b39a-2734728e3c91",
   "metadata": {},
   "outputs": [
    {
     "data": {
      "text/plain": [
       "['hello', 'my', 'name', 'is', 'subrat', 'bahuguna']"
      ]
     },
     "execution_count": 144,
     "metadata": {},
     "output_type": "execute_result"
    }
   ],
   "source": [
    "lst"
   ]
  },
  {
   "cell_type": "code",
   "execution_count": 147,
   "id": "266c03fa-5059-42c9-b48c-34334714ec46",
   "metadata": {},
   "outputs": [
    {
     "data": {
      "text/plain": [
       "'hello my name is subrat bahuguna'"
      ]
     },
     "execution_count": 147,
     "metadata": {},
     "output_type": "execute_result"
    }
   ],
   "source": [
    "' '.join(lst)"
   ]
  },
  {
   "cell_type": "code",
   "execution_count": 148,
   "id": "13e0c3b3-a1e5-4a5a-ab5f-3b3a5e2925e3",
   "metadata": {},
   "outputs": [
    {
     "data": {
      "text/plain": [
       "'hello\\\\my\\\\name\\\\is\\\\subrat\\\\bahuguna'"
      ]
     },
     "execution_count": 148,
     "metadata": {},
     "output_type": "execute_result"
    }
   ],
   "source": [
    "'\\\\'.join(lst)"
   ]
  },
  {
   "cell_type": "markdown",
   "id": "1ea3461d-ea6a-4a42-a474-1c2ecbc6a016",
   "metadata": {},
   "source": [
    "### replace"
   ]
  },
  {
   "cell_type": "code",
   "execution_count": 149,
   "id": "b0aa4696-37f1-4127-b046-1a9c4e26de3e",
   "metadata": {},
   "outputs": [
    {
     "data": {
      "text/plain": [
       "'Hi my name is subrat'"
      ]
     },
     "execution_count": 149,
     "metadata": {},
     "output_type": "execute_result"
    }
   ],
   "source": [
    "'Hi my name is nitish'.replace('nitish','subrat')"
   ]
  },
  {
   "cell_type": "markdown",
   "id": "c30ac7a3-d556-4c1b-ba7c-0acc25a767b7",
   "metadata": {},
   "source": [
    "### Strip -> very important"
   ]
  },
  {
   "cell_type": "code",
   "execution_count": 150,
   "id": "7cc2065b-9c7e-42d4-918b-bc9c6b3f9256",
   "metadata": {},
   "outputs": [
    {
     "data": {
      "text/plain": [
       "'nitish'"
      ]
     },
     "execution_count": 150,
     "metadata": {},
     "output_type": "execute_result"
    }
   ],
   "source": [
    "'nitish                   '.strip()"
   ]
  },
  {
   "cell_type": "markdown",
   "id": "f0cd3a5a-302c-4d31-8d80-f568873efab1",
   "metadata": {},
   "source": [
    "#### Whenever you are taking names from a database -> you will put the strip function if any user has by mistake put spaces at the end of a number"
   ]
  },
  {
   "cell_type": "code",
   "execution_count": null,
   "id": "6d8478bf-ea49-452c-9d32-e7790cdec154",
   "metadata": {},
   "outputs": [],
   "source": []
  }
 ],
 "metadata": {
  "kernelspec": {
   "display_name": "Python 3 (ipykernel)",
   "language": "python",
   "name": "python3"
  },
  "language_info": {
   "codemirror_mode": {
    "name": "ipython",
    "version": 3
   },
   "file_extension": ".py",
   "mimetype": "text/x-python",
   "name": "python",
   "nbconvert_exporter": "python",
   "pygments_lexer": "ipython3",
   "version": "3.11.7"
  }
 },
 "nbformat": 4,
 "nbformat_minor": 5
}
